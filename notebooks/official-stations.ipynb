{
 "cells": [
  {
   "cell_type": "code",
   "execution_count": null,
   "id": "8b9d458f",
   "metadata": {},
   "outputs": [],
   "source": [
    "from meteostations_vector_cube import official_stations_utils"
   ]
  },
  {
   "cell_type": "code",
   "execution_count": null,
   "id": "27fdfaf3",
   "metadata": {
    "tags": [
     "parameters"
    ]
   },
   "outputs": [],
   "source": [
    "\n",
    "bucket_name = \"ceat-data\"\n",
    "vaudair_key = \"vaud-air/EPFL_BoschMarti_VD_Lau-Bus-Mor_20210812-20210820_20240111.xlsx\""
   ]
  },
  {
   "cell_type": "code",
   "execution_count": null,
   "id": "17294a1b",
   "metadata": {},
   "outputs": [],
   "source": [
    "client = official_stations_utils.SpacesClient(bucket_name=bucket_name)"
   ]
  },
  {
   "cell_type": "code",
   "execution_count": null,
   "id": "4c46532f",
   "metadata": {},
   "outputs": [],
   "source": [
    "vaudair_df = client.get_vaudair_df(vaudair_key).loc[start_dt:end_dt]"
   ]
  }
 ],
 "metadata": {
  "jupytext": {
   "cell_metadata_filter": "tags,-all"
  },
  "kernelspec": {
   "display_name": "Python (meteostations-vector-cube)",
   "language": "python",
   "name": "meteostations-vector-cube"
  }
 },
 "nbformat": 4,
 "nbformat_minor": 5
}
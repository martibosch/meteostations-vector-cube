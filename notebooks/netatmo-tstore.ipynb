{
 "cells": [
  {
   "cell_type": "code",
   "execution_count": 1,
   "id": "12cdfe75",
   "metadata": {},
   "outputs": [
    {
     "data": {
      "text/html": [
       "<div>\n",
       "<style scoped>\n",
       "    .dataframe tbody tr th:only-of-type {\n",
       "        vertical-align: middle;\n",
       "    }\n",
       "\n",
       "    .dataframe tbody tr th {\n",
       "        vertical-align: top;\n",
       "    }\n",
       "\n",
       "    .dataframe thead th {\n",
       "        text-align: right;\n",
       "    }\n",
       "</style>\n",
       "<table border=\"1\" class=\"dataframe\">\n",
       "  <thead>\n",
       "    <tr style=\"text-align: right;\">\n",
       "      <th></th>\n",
       "      <th>var1</th>\n",
       "      <th>var2</th>\n",
       "    </tr>\n",
       "  </thead>\n",
       "  <tbody>\n",
       "    <tr>\n",
       "      <th>1</th>\n",
       "      <td>A</td>\n",
       "      <td>1.0</td>\n",
       "    </tr>\n",
       "    <tr>\n",
       "      <th>2</th>\n",
       "      <td>B</td>\n",
       "      <td>2.0</td>\n",
       "    </tr>\n",
       "    <tr>\n",
       "      <th>3</th>\n",
       "      <td>C</td>\n",
       "      <td>3.0</td>\n",
       "    </tr>\n",
       "    <tr>\n",
       "      <th>4</th>\n",
       "      <td>D</td>\n",
       "      <td>4.0</td>\n",
       "    </tr>\n",
       "  </tbody>\n",
       "</table>\n",
       "</div>"
      ],
      "text/plain": [
       "  var1  var2\n",
       "1    A   1.0\n",
       "2    B   2.0\n",
       "3    C   3.0\n",
       "4    D   4.0"
      ]
     },
     "execution_count": 1,
     "metadata": {},
     "output_type": "execute_result"
    }
   ],
   "source": [
    "import dask\n",
    "import numpy as np\n",
    "import pandas as pd\n",
    "\n",
    "# Define tstore_ids\n",
    "tstore_ids = np.arange(1, 5)\n",
    "\n",
    "# Define dataframe with attributes\n",
    "data = {\"var1\": [\"A\", \"B\", \"C\", \"D\"], \"var2\": [1.0, 2.0, 3.0, 4.0]}\n",
    "df_attrs = pd.DataFrame(data, index=tstore_ids)\n",
    "df_attrs"
   ]
  },
  {
   "cell_type": "code",
   "execution_count": 2,
   "id": "5f59aaa8",
   "metadata": {},
   "outputs": [
    {
     "ename": "NameError",
     "evalue": "name 'tstore' is not defined",
     "output_type": "error",
     "traceback": [
      "\u001b[0;31m---------------------------------------------------------------------------\u001b[0m",
      "\u001b[0;31mNameError\u001b[0m                                 Traceback (most recent call last)",
      "Cell \u001b[0;32mIn[2], line 12\u001b[0m\n\u001b[1;32m      3\u001b[0m \u001b[38;5;28;01mfor\u001b[39;00m tstore_id \u001b[38;5;129;01min\u001b[39;00m tstore_ids:\n\u001b[1;32m      4\u001b[0m     df_dask \u001b[38;5;241m=\u001b[39m dask\u001b[38;5;241m.\u001b[39mdatasets\u001b[38;5;241m.\u001b[39mtimeseries(\n\u001b[1;32m      5\u001b[0m         start\u001b[38;5;241m=\u001b[39m\u001b[38;5;124m\"\u001b[39m\u001b[38;5;124m2000-01-01\u001b[39m\u001b[38;5;124m\"\u001b[39m,\n\u001b[1;32m      6\u001b[0m         end\u001b[38;5;241m=\u001b[39m\u001b[38;5;124m\"\u001b[39m\u001b[38;5;124m2000-01-31\u001b[39m\u001b[38;5;124m\"\u001b[39m,\n\u001b[0;32m   (...)\u001b[0m\n\u001b[1;32m     10\u001b[0m         seed\u001b[38;5;241m=\u001b[39m\u001b[38;5;28;01mNone\u001b[39;00m,\n\u001b[1;32m     11\u001b[0m     )\n\u001b[0;32m---> 12\u001b[0m     ts_dict[tstore_id] \u001b[38;5;241m=\u001b[39m \u001b[43mtstore\u001b[49m\u001b[38;5;241m.\u001b[39mTS(df_dask)\n\u001b[1;32m     13\u001b[0m ts_dict\n",
      "\u001b[0;31mNameError\u001b[0m: name 'tstore' is not defined"
     ]
    }
   ],
   "source": [
    "# Create TSArray\n",
    "ts_dict = {}\n",
    "for tstore_id in tstore_ids:\n",
    "    df_dask = dask.datasets.timeseries(\n",
    "        start=\"2000-01-01\",\n",
    "        end=\"2000-01-31\",\n",
    "        freq=\"1s\",\n",
    "        partition_freq=\"1d\",\n",
    "        dtypes=None,\n",
    "        seed=None,\n",
    "    )\n",
    "    ts_dict[tstore_id] = tstore.TS(df_dask)\n",
    "ts_dict"
   ]
  },
  {
   "cell_type": "code",
   "execution_count": null,
   "id": "ed31bc8e",
   "metadata": {},
   "outputs": [],
   "source": [
    "# Create TSArray\n",
    "data = list(ts_dict.values())\n",
    "ts_arr = tstore.TSArray(data)\n",
    "ts_arr"
   ]
  },
  {
   "cell_type": "code",
   "execution_count": null,
   "id": "0a510a04",
   "metadata": {},
   "outputs": [],
   "source": [
    "# Create Series with TS Dtype\n",
    "df_series = pd.Series(ts_arr, index=tstore_ids)\n",
    "print(df_series)  # dtype: TS[dask.DataFrame]  ...  pandas/polars/pyarrow\n",
    "print(df_series.dtype)  # TSDtype\n",
    "print(df_series.values)  # TSArray\n",
    "print(df_series.array)  # TSArray # zero-copy reference to the data !\n",
    "df_series.to_numpy()  # object dtype"
   ]
  },
  {
   "cell_type": "code",
   "execution_count": null,
   "id": "a07467dd",
   "metadata": {},
   "outputs": [],
   "source": [
    "# Join to df_attrs\n",
    "ts_variable = \"precipitation\"\n",
    "df_attrs[ts_variable] = df_series"
   ]
  },
  {
   "cell_type": "code",
   "execution_count": null,
   "id": "fcd3e580",
   "metadata": {},
   "outputs": [],
   "source": [
    "# Create TSDF\n",
    "tsdf = tstore.TSDF(df_attrs)\n",
    "dir(tsdf)"
   ]
  },
  {
   "cell_type": "code",
   "execution_count": null,
   "id": "da6a6012",
   "metadata": {},
   "outputs": [],
   "source": [
    "# Write TStore\n",
    "base_dir = \"/tmp/dummy_tstore\"\n",
    "partition_str = None  # TO IMPLEMENT\n",
    "tstore_structure = \"id-var\"\n",
    "overwrite = True\n",
    "tsdf.to_tstore(\n",
    "    base_dir,\n",
    "    partition_str=partition_str,\n",
    "    tstore_structure=tstore_structure,\n",
    "    overwrite=overwrite,\n",
    ")"
   ]
  },
  {
   "cell_type": "code",
   "execution_count": null,
   "id": "c0b836d0",
   "metadata": {},
   "outputs": [],
   "source": [
    "# Open TSDF\n",
    "tsdf = tstore.open_tsdf(base_dir)"
   ]
  },
  {
   "cell_type": "code",
   "execution_count": null,
   "id": "f117bfb9",
   "metadata": {},
   "outputs": [],
   "source": [
    "# Open TSDF long\n",
    "from tstore.tslong.pandas import open_tslong\n",
    "\n",
    "open_tslong(base_dir, ts_variables=[\"precipitation\"])"
   ]
  },
  {
   "cell_type": "markdown",
   "id": "9acf4a68",
   "metadata": {},
   "source": [
    "# Netatmo data\n",
    "\n",
    "## Preprocess data\n",
    "\n",
    "### Utils"
   ]
  },
  {
   "cell_type": "code",
   "execution_count": 3,
   "id": "ab5167ff",
   "metadata": {},
   "outputs": [],
   "source": [
    "%load_ext autoreload\n",
    "%autoreload 2"
   ]
  },
  {
   "cell_type": "code",
   "execution_count": 4,
   "id": "6d39293a",
   "metadata": {},
   "outputs": [],
   "source": [
    "import glob\n",
    "import tempfile\n",
    "from os import path\n",
    "\n",
    "import pandas as pd\n",
    "import pyarrow as pa\n",
    "import tstore\n",
    "from dask import dataframe as dd\n",
    "from meteostations_vector_cube import netatmo_utils"
   ]
  },
  {
   "cell_type": "markdown",
   "id": "80496537",
   "metadata": {},
   "source": [
    "### Load multi-variate data from list of JSON responses"
   ]
  },
  {
   "cell_type": "code",
   "execution_count": 5,
   "id": "baacb59d",
   "metadata": {
    "tags": [
     "parameters"
    ]
   },
   "outputs": [],
   "source": [
    "data_dir = \"../data/raw/netatmo-lausanne-aug-21\""
   ]
  },
  {
   "cell_type": "code",
   "execution_count": 6,
   "id": "36ee04be",
   "metadata": {},
   "outputs": [
    {
     "name": "stderr",
     "output_type": "stream",
     "text": [
      "  0%|                                                                                                                                                | 0/310 [00:00<?, ?it/s]/home/martibosch/mambaforge/envs/meteostations-vector-cube/lib/python3.11/site-packages/geopandas/array.py:1459: UserWarning: CRS not set for some of the concatenation inputs. Setting output's CRS as WGS 84 (the single non-null crs provided).\n",
      "  return GeometryArray(data, crs=_get_common_crs(to_concat))\n",
      "/home/martibosch/mambaforge/envs/meteostations-vector-cube/lib/python3.11/site-packages/geopandas/array.py:1459: UserWarning: CRS not set for some of the concatenation inputs. Setting output's CRS as WGS 84 (the single non-null crs provided).\n",
      "  return GeometryArray(data, crs=_get_common_crs(to_concat))\n",
      "/home/martibosch/mambaforge/envs/meteostations-vector-cube/lib/python3.11/site-packages/geopandas/array.py:1459: UserWarning: CRS not set for some of the concatenation inputs. Setting output's CRS as WGS 84 (the single non-null crs provided).\n",
      "  return GeometryArray(data, crs=_get_common_crs(to_concat))\n",
      "/home/martibosch/mambaforge/envs/meteostations-vector-cube/lib/python3.11/site-packages/geopandas/array.py:1459: UserWarning: CRS not set for some of the concatenation inputs. Setting output's CRS as WGS 84 (the single non-null crs provided).\n",
      "  return GeometryArray(data, crs=_get_common_crs(to_concat))\n",
      "/home/martibosch/mambaforge/envs/meteostations-vector-cube/lib/python3.11/site-packages/geopandas/array.py:1459: UserWarning: CRS not set for some of the concatenation inputs. Setting output's CRS as WGS 84 (the single non-null crs provided).\n",
      "  return GeometryArray(data, crs=_get_common_crs(to_concat))\n",
      "  2%|██▏                                                                                                                                     | 5/310 [00:00<00:07, 42.43it/s]/home/martibosch/mambaforge/envs/meteostations-vector-cube/lib/python3.11/site-packages/geopandas/array.py:1459: UserWarning: CRS not set for some of the concatenation inputs. Setting output's CRS as WGS 84 (the single non-null crs provided).\n",
      "  return GeometryArray(data, crs=_get_common_crs(to_concat))\n",
      "/home/martibosch/mambaforge/envs/meteostations-vector-cube/lib/python3.11/site-packages/geopandas/array.py:1459: UserWarning: CRS not set for some of the concatenation inputs. Setting output's CRS as WGS 84 (the single non-null crs provided).\n",
      "  return GeometryArray(data, crs=_get_common_crs(to_concat))\n",
      "/home/martibosch/mambaforge/envs/meteostations-vector-cube/lib/python3.11/site-packages/geopandas/array.py:1459: UserWarning: CRS not set for some of the concatenation inputs. Setting output's CRS as WGS 84 (the single non-null crs provided).\n",
      "  return GeometryArray(data, crs=_get_common_crs(to_concat))\n",
      "/home/martibosch/mambaforge/envs/meteostations-vector-cube/lib/python3.11/site-packages/geopandas/array.py:1459: UserWarning: CRS not set for some of the concatenation inputs. Setting output's CRS as WGS 84 (the single non-null crs provided).\n",
      "  return GeometryArray(data, crs=_get_common_crs(to_concat))\n",
      "/home/martibosch/mambaforge/envs/meteostations-vector-cube/lib/python3.11/site-packages/geopandas/array.py:1459: UserWarning: CRS not set for some of the concatenation inputs. Setting output's CRS as WGS 84 (the single non-null crs provided).\n",
      "  return GeometryArray(data, crs=_get_common_crs(to_concat))\n",
      "  3%|████▎                                                                                                                                  | 10/310 [00:00<00:07, 42.13it/s]/home/martibosch/mambaforge/envs/meteostations-vector-cube/lib/python3.11/site-packages/geopandas/array.py:1459: UserWarning: CRS not set for some of the concatenation inputs. Setting output's CRS as WGS 84 (the single non-null crs provided).\n",
      "  return GeometryArray(data, crs=_get_common_crs(to_concat))\n",
      "/home/martibosch/mambaforge/envs/meteostations-vector-cube/lib/python3.11/site-packages/geopandas/array.py:1459: UserWarning: CRS not set for some of the concatenation inputs. Setting output's CRS as WGS 84 (the single non-null crs provided).\n",
      "  return GeometryArray(data, crs=_get_common_crs(to_concat))\n",
      "/home/martibosch/mambaforge/envs/meteostations-vector-cube/lib/python3.11/site-packages/geopandas/array.py:1459: UserWarning: CRS not set for some of the concatenation inputs. Setting output's CRS as WGS 84 (the single non-null crs provided).\n",
      "  return GeometryArray(data, crs=_get_common_crs(to_concat))\n",
      "/home/martibosch/mambaforge/envs/meteostations-vector-cube/lib/python3.11/site-packages/geopandas/array.py:1459: UserWarning: CRS not set for some of the concatenation inputs. Setting output's CRS as WGS 84 (the single non-null crs provided).\n",
      "  return GeometryArray(data, crs=_get_common_crs(to_concat))\n",
      "/home/martibosch/mambaforge/envs/meteostations-vector-cube/lib/python3.11/site-packages/geopandas/array.py:1459: UserWarning: CRS not set for some of the concatenation inputs. Setting output's CRS as WGS 84 (the single non-null crs provided).\n",
      "  return GeometryArray(data, crs=_get_common_crs(to_concat))\n",
      "  5%|██████▌                                                                                                                                | 15/310 [00:00<00:09, 31.85it/s]/home/martibosch/mambaforge/envs/meteostations-vector-cube/lib/python3.11/site-packages/geopandas/array.py:1459: UserWarning: CRS not set for some of the concatenation inputs. Setting output's CRS as WGS 84 (the single non-null crs provided).\n",
      "  return GeometryArray(data, crs=_get_common_crs(to_concat))\n",
      "/home/martibosch/mambaforge/envs/meteostations-vector-cube/lib/python3.11/site-packages/geopandas/array.py:1459: UserWarning: CRS not set for some of the concatenation inputs. Setting output's CRS as WGS 84 (the single non-null crs provided).\n",
      "  return GeometryArray(data, crs=_get_common_crs(to_concat))\n",
      "/home/martibosch/mambaforge/envs/meteostations-vector-cube/lib/python3.11/site-packages/geopandas/array.py:1459: UserWarning: CRS not set for some of the concatenation inputs. Setting output's CRS as WGS 84 (the single non-null crs provided).\n",
      "  return GeometryArray(data, crs=_get_common_crs(to_concat))\n",
      "/home/martibosch/mambaforge/envs/meteostations-vector-cube/lib/python3.11/site-packages/geopandas/array.py:1459: UserWarning: CRS not set for some of the concatenation inputs. Setting output's CRS as WGS 84 (the single non-null crs provided).\n",
      "  return GeometryArray(data, crs=_get_common_crs(to_concat))\n",
      "/home/martibosch/mambaforge/envs/meteostations-vector-cube/lib/python3.11/site-packages/geopandas/array.py:1459: UserWarning: CRS not set for some of the concatenation inputs. Setting output's CRS as WGS 84 (the single non-null crs provided).\n",
      "  return GeometryArray(data, crs=_get_common_crs(to_concat))\n",
      "/home/martibosch/mambaforge/envs/meteostations-vector-cube/lib/python3.11/site-packages/geopandas/array.py:1459: UserWarning: CRS not set for some of the concatenation inputs. Setting output's CRS as WGS 84 (the single non-null crs provided).\n",
      "  return GeometryArray(data, crs=_get_common_crs(to_concat))\n",
      "/home/martibosch/mambaforge/envs/meteostations-vector-cube/lib/python3.11/site-packages/geopandas/array.py:1459: UserWarning: CRS not set for some of the concatenation inputs. Setting output's CRS as WGS 84 (the single non-null crs provided).\n",
      "  return GeometryArray(data, crs=_get_common_crs(to_concat))\n",
      "  7%|█████████▌                                                                                                                             | 22/310 [00:00<00:06, 42.51it/s]/home/martibosch/mambaforge/envs/meteostations-vector-cube/lib/python3.11/site-packages/geopandas/array.py:1459: UserWarning: CRS not set for some of the concatenation inputs. Setting output's CRS as WGS 84 (the single non-null crs provided).\n",
      "  return GeometryArray(data, crs=_get_common_crs(to_concat))\n",
      "/home/martibosch/mambaforge/envs/meteostations-vector-cube/lib/python3.11/site-packages/geopandas/array.py:1459: UserWarning: CRS not set for some of the concatenation inputs. Setting output's CRS as WGS 84 (the single non-null crs provided).\n",
      "  return GeometryArray(data, crs=_get_common_crs(to_concat))\n",
      "/home/martibosch/mambaforge/envs/meteostations-vector-cube/lib/python3.11/site-packages/geopandas/array.py:1459: UserWarning: CRS not set for some of the concatenation inputs. Setting output's CRS as WGS 84 (the single non-null crs provided).\n",
      "  return GeometryArray(data, crs=_get_common_crs(to_concat))\n"
     ]
    },
    {
     "name": "stderr",
     "output_type": "stream",
     "text": [
      "/home/martibosch/mambaforge/envs/meteostations-vector-cube/lib/python3.11/site-packages/geopandas/array.py:1459: UserWarning: CRS not set for some of the concatenation inputs. Setting output's CRS as WGS 84 (the single non-null crs provided).\n",
      "  return GeometryArray(data, crs=_get_common_crs(to_concat))\n",
      "/home/martibosch/mambaforge/envs/meteostations-vector-cube/lib/python3.11/site-packages/geopandas/array.py:1459: UserWarning: CRS not set for some of the concatenation inputs. Setting output's CRS as WGS 84 (the single non-null crs provided).\n",
      "  return GeometryArray(data, crs=_get_common_crs(to_concat))\n",
      "  9%|████████████▋                                                                                                                          | 29/310 [00:00<00:05, 50.05it/s]/home/martibosch/mambaforge/envs/meteostations-vector-cube/lib/python3.11/site-packages/geopandas/array.py:1459: UserWarning: CRS not set for some of the concatenation inputs. Setting output's CRS as WGS 84 (the single non-null crs provided).\n",
      "  return GeometryArray(data, crs=_get_common_crs(to_concat))\n",
      "/home/martibosch/mambaforge/envs/meteostations-vector-cube/lib/python3.11/site-packages/geopandas/array.py:1459: UserWarning: CRS not set for some of the concatenation inputs. Setting output's CRS as WGS 84 (the single non-null crs provided).\n",
      "  return GeometryArray(data, crs=_get_common_crs(to_concat))\n",
      "/home/martibosch/mambaforge/envs/meteostations-vector-cube/lib/python3.11/site-packages/geopandas/array.py:1459: UserWarning: CRS not set for some of the concatenation inputs. Setting output's CRS as WGS 84 (the single non-null crs provided).\n",
      "  return GeometryArray(data, crs=_get_common_crs(to_concat))\n",
      "/home/martibosch/mambaforge/envs/meteostations-vector-cube/lib/python3.11/site-packages/geopandas/array.py:1459: UserWarning: CRS not set for some of the concatenation inputs. Setting output's CRS as WGS 84 (the single non-null crs provided).\n",
      "  return GeometryArray(data, crs=_get_common_crs(to_concat))\n",
      " 11%|███████████████▏                                                                                                                       | 35/310 [00:00<00:06, 43.26it/s]/home/martibosch/mambaforge/envs/meteostations-vector-cube/lib/python3.11/site-packages/geopandas/array.py:1459: UserWarning: CRS not set for some of the concatenation inputs. Setting output's CRS as WGS 84 (the single non-null crs provided).\n",
      "  return GeometryArray(data, crs=_get_common_crs(to_concat))\n",
      "/home/martibosch/mambaforge/envs/meteostations-vector-cube/lib/python3.11/site-packages/geopandas/array.py:1459: UserWarning: CRS not set for some of the concatenation inputs. Setting output's CRS as WGS 84 (the single non-null crs provided).\n",
      "  return GeometryArray(data, crs=_get_common_crs(to_concat))\n",
      "/home/martibosch/mambaforge/envs/meteostations-vector-cube/lib/python3.11/site-packages/geopandas/array.py:1459: UserWarning: CRS not set for some of the concatenation inputs. Setting output's CRS as WGS 84 (the single non-null crs provided).\n",
      "  return GeometryArray(data, crs=_get_common_crs(to_concat))\n",
      " 13%|█████████████████▍                                                                                                                     | 40/310 [00:00<00:06, 44.45it/s]/home/martibosch/mambaforge/envs/meteostations-vector-cube/lib/python3.11/site-packages/geopandas/array.py:1459: UserWarning: CRS not set for some of the concatenation inputs. Setting output's CRS as WGS 84 (the single non-null crs provided).\n",
      "  return GeometryArray(data, crs=_get_common_crs(to_concat))\n",
      "/home/martibosch/mambaforge/envs/meteostations-vector-cube/lib/python3.11/site-packages/geopandas/array.py:1459: UserWarning: CRS not set for some of the concatenation inputs. Setting output's CRS as WGS 84 (the single non-null crs provided).\n",
      "  return GeometryArray(data, crs=_get_common_crs(to_concat))\n",
      "/home/martibosch/mambaforge/envs/meteostations-vector-cube/lib/python3.11/site-packages/geopandas/array.py:1459: UserWarning: CRS not set for some of the concatenation inputs. Setting output's CRS as WGS 84 (the single non-null crs provided).\n",
      "  return GeometryArray(data, crs=_get_common_crs(to_concat))\n",
      " 15%|████████████████████                                                                                                                   | 46/310 [00:01<00:05, 47.55it/s]/home/martibosch/mambaforge/envs/meteostations-vector-cube/lib/python3.11/site-packages/geopandas/array.py:1459: UserWarning: CRS not set for some of the concatenation inputs. Setting output's CRS as WGS 84 (the single non-null crs provided).\n",
      "  return GeometryArray(data, crs=_get_common_crs(to_concat))\n",
      "/home/martibosch/mambaforge/envs/meteostations-vector-cube/lib/python3.11/site-packages/geopandas/array.py:1459: UserWarning: CRS not set for some of the concatenation inputs. Setting output's CRS as WGS 84 (the single non-null crs provided).\n",
      "  return GeometryArray(data, crs=_get_common_crs(to_concat))\n",
      "/home/martibosch/mambaforge/envs/meteostations-vector-cube/lib/python3.11/site-packages/geopandas/array.py:1459: UserWarning: CRS not set for some of the concatenation inputs. Setting output's CRS as WGS 84 (the single non-null crs provided).\n",
      "  return GeometryArray(data, crs=_get_common_crs(to_concat))\n",
      " 17%|██████████████████████▋                                                                                                                | 52/310 [00:01<00:05, 46.90it/s]/home/martibosch/mambaforge/envs/meteostations-vector-cube/lib/python3.11/site-packages/geopandas/array.py:1459: UserWarning: CRS not set for some of the concatenation inputs. Setting output's CRS as WGS 84 (the single non-null crs provided).\n",
      "  return GeometryArray(data, crs=_get_common_crs(to_concat))\n",
      "/home/martibosch/mambaforge/envs/meteostations-vector-cube/lib/python3.11/site-packages/geopandas/array.py:1459: UserWarning: CRS not set for some of the concatenation inputs. Setting output's CRS as WGS 84 (the single non-null crs provided).\n",
      "  return GeometryArray(data, crs=_get_common_crs(to_concat))\n",
      "/home/martibosch/mambaforge/envs/meteostations-vector-cube/lib/python3.11/site-packages/geopandas/array.py:1459: UserWarning: CRS not set for some of the concatenation inputs. Setting output's CRS as WGS 84 (the single non-null crs provided).\n",
      "  return GeometryArray(data, crs=_get_common_crs(to_concat))\n",
      " 19%|█████████████████████████▎                                                                                                             | 58/310 [00:01<00:05, 50.05it/s]/home/martibosch/mambaforge/envs/meteostations-vector-cube/lib/python3.11/site-packages/geopandas/array.py:1459: UserWarning: CRS not set for some of the concatenation inputs. Setting output's CRS as WGS 84 (the single non-null crs provided).\n",
      "  return GeometryArray(data, crs=_get_common_crs(to_concat))\n",
      "/home/martibosch/mambaforge/envs/meteostations-vector-cube/lib/python3.11/site-packages/geopandas/array.py:1459: UserWarning: CRS not set for some of the concatenation inputs. Setting output's CRS as WGS 84 (the single non-null crs provided).\n",
      "  return GeometryArray(data, crs=_get_common_crs(to_concat))\n",
      "/home/martibosch/mambaforge/envs/meteostations-vector-cube/lib/python3.11/site-packages/geopandas/array.py:1459: UserWarning: CRS not set for some of the concatenation inputs. Setting output's CRS as WGS 84 (the single non-null crs provided).\n",
      "  return GeometryArray(data, crs=_get_common_crs(to_concat))\n",
      "/home/martibosch/mambaforge/envs/meteostations-vector-cube/lib/python3.11/site-packages/geopandas/array.py:1459: UserWarning: CRS not set for some of the concatenation inputs. Setting output's CRS as WGS 84 (the single non-null crs provided).\n",
      "  return GeometryArray(data, crs=_get_common_crs(to_concat))\n",
      "/home/martibosch/mambaforge/envs/meteostations-vector-cube/lib/python3.11/site-packages/geopandas/array.py:1459: UserWarning: CRS not set for some of the concatenation inputs. Setting output's CRS as WGS 84 (the single non-null crs provided).\n",
      "  return GeometryArray(data, crs=_get_common_crs(to_concat))\n"
     ]
    },
    {
     "name": "stderr",
     "output_type": "stream",
     "text": [
      " 21%|████████████████████████████▋                                                                                                          | 66/310 [00:01<00:04, 58.13it/s]/home/martibosch/mambaforge/envs/meteostations-vector-cube/lib/python3.11/site-packages/geopandas/array.py:1459: UserWarning: CRS not set for some of the concatenation inputs. Setting output's CRS as WGS 84 (the single non-null crs provided).\n",
      "  return GeometryArray(data, crs=_get_common_crs(to_concat))\n",
      "/home/martibosch/mambaforge/envs/meteostations-vector-cube/lib/python3.11/site-packages/geopandas/array.py:1459: UserWarning: CRS not set for some of the concatenation inputs. Setting output's CRS as WGS 84 (the single non-null crs provided).\n",
      "  return GeometryArray(data, crs=_get_common_crs(to_concat))\n",
      " 24%|████████████████████████████████▏                                                                                                      | 74/310 [00:01<00:03, 64.00it/s]/home/martibosch/mambaforge/envs/meteostations-vector-cube/lib/python3.11/site-packages/geopandas/array.py:1459: UserWarning: CRS not set for some of the concatenation inputs. Setting output's CRS as WGS 84 (the single non-null crs provided).\n",
      "  return GeometryArray(data, crs=_get_common_crs(to_concat))\n",
      "/home/martibosch/mambaforge/envs/meteostations-vector-cube/lib/python3.11/site-packages/geopandas/array.py:1459: UserWarning: CRS not set for some of the concatenation inputs. Setting output's CRS as WGS 84 (the single non-null crs provided).\n",
      "  return GeometryArray(data, crs=_get_common_crs(to_concat))\n",
      "/home/martibosch/mambaforge/envs/meteostations-vector-cube/lib/python3.11/site-packages/geopandas/array.py:1459: UserWarning: CRS not set for some of the concatenation inputs. Setting output's CRS as WGS 84 (the single non-null crs provided).\n",
      "  return GeometryArray(data, crs=_get_common_crs(to_concat))\n",
      "/home/martibosch/mambaforge/envs/meteostations-vector-cube/lib/python3.11/site-packages/geopandas/array.py:1459: UserWarning: CRS not set for some of the concatenation inputs. Setting output's CRS as WGS 84 (the single non-null crs provided).\n",
      "  return GeometryArray(data, crs=_get_common_crs(to_concat))\n",
      "/home/martibosch/mambaforge/envs/meteostations-vector-cube/lib/python3.11/site-packages/geopandas/array.py:1459: UserWarning: CRS not set for some of the concatenation inputs. Setting output's CRS as WGS 84 (the single non-null crs provided).\n",
      "  return GeometryArray(data, crs=_get_common_crs(to_concat))\n",
      " 29%|██████████████████████████████████████▊                                                                                                | 89/310 [00:01<00:03, 61.85it/s]/home/martibosch/mambaforge/envs/meteostations-vector-cube/lib/python3.11/site-packages/geopandas/array.py:1459: UserWarning: CRS not set for some of the concatenation inputs. Setting output's CRS as WGS 84 (the single non-null crs provided).\n",
      "  return GeometryArray(data, crs=_get_common_crs(to_concat))\n",
      "/home/martibosch/mambaforge/envs/meteostations-vector-cube/lib/python3.11/site-packages/geopandas/array.py:1459: UserWarning: CRS not set for some of the concatenation inputs. Setting output's CRS as WGS 84 (the single non-null crs provided).\n",
      "  return GeometryArray(data, crs=_get_common_crs(to_concat))\n",
      "/home/martibosch/mambaforge/envs/meteostations-vector-cube/lib/python3.11/site-packages/geopandas/array.py:1459: UserWarning: CRS not set for some of the concatenation inputs. Setting output's CRS as WGS 84 (the single non-null crs provided).\n",
      "  return GeometryArray(data, crs=_get_common_crs(to_concat))\n",
      " 32%|██████████████████████████████████████████▋                                                                                            | 98/310 [00:01<00:03, 67.20it/s]/home/martibosch/mambaforge/envs/meteostations-vector-cube/lib/python3.11/site-packages/geopandas/array.py:1459: UserWarning: CRS not set for some of the concatenation inputs. Setting output's CRS as WGS 84 (the single non-null crs provided).\n",
      "  return GeometryArray(data, crs=_get_common_crs(to_concat))\n",
      "/home/martibosch/mambaforge/envs/meteostations-vector-cube/lib/python3.11/site-packages/geopandas/array.py:1459: UserWarning: CRS not set for some of the concatenation inputs. Setting output's CRS as WGS 84 (the single non-null crs provided).\n",
      "  return GeometryArray(data, crs=_get_common_crs(to_concat))\n",
      "/home/martibosch/mambaforge/envs/meteostations-vector-cube/lib/python3.11/site-packages/geopandas/array.py:1459: UserWarning: CRS not set for some of the concatenation inputs. Setting output's CRS as WGS 84 (the single non-null crs provided).\n",
      "  return GeometryArray(data, crs=_get_common_crs(to_concat))\n",
      " 37%|█████████████████████████████████████████████████▎                                                                                    | 114/310 [00:02<00:02, 65.56it/s]/home/martibosch/mambaforge/envs/meteostations-vector-cube/lib/python3.11/site-packages/geopandas/array.py:1459: UserWarning: CRS not set for some of the concatenation inputs. Setting output's CRS as WGS 84 (the single non-null crs provided).\n",
      "  return GeometryArray(data, crs=_get_common_crs(to_concat))\n",
      "/home/martibosch/mambaforge/envs/meteostations-vector-cube/lib/python3.11/site-packages/geopandas/array.py:1459: UserWarning: CRS not set for some of the concatenation inputs. Setting output's CRS as WGS 84 (the single non-null crs provided).\n",
      "  return GeometryArray(data, crs=_get_common_crs(to_concat))\n",
      "/home/martibosch/mambaforge/envs/meteostations-vector-cube/lib/python3.11/site-packages/geopandas/array.py:1459: UserWarning: CRS not set for some of the concatenation inputs. Setting output's CRS as WGS 84 (the single non-null crs provided).\n",
      "  return GeometryArray(data, crs=_get_common_crs(to_concat))\n",
      " 42%|███████████████████████████████████████████████████████▊                                                                              | 129/310 [00:02<00:02, 61.15it/s]/home/martibosch/mambaforge/envs/meteostations-vector-cube/lib/python3.11/site-packages/geopandas/array.py:1459: UserWarning: CRS not set for some of the concatenation inputs. Setting output's CRS as WGS 84 (the single non-null crs provided).\n",
      "  return GeometryArray(data, crs=_get_common_crs(to_concat))\n",
      "/home/martibosch/mambaforge/envs/meteostations-vector-cube/lib/python3.11/site-packages/geopandas/array.py:1459: UserWarning: CRS not set for some of the concatenation inputs. Setting output's CRS as WGS 84 (the single non-null crs provided).\n",
      "  return GeometryArray(data, crs=_get_common_crs(to_concat))\n",
      "/home/martibosch/mambaforge/envs/meteostations-vector-cube/lib/python3.11/site-packages/geopandas/array.py:1459: UserWarning: CRS not set for some of the concatenation inputs. Setting output's CRS as WGS 84 (the single non-null crs provided).\n",
      "  return GeometryArray(data, crs=_get_common_crs(to_concat))\n",
      "/home/martibosch/mambaforge/envs/meteostations-vector-cube/lib/python3.11/site-packages/geopandas/array.py:1459: UserWarning: CRS not set for some of the concatenation inputs. Setting output's CRS as WGS 84 (the single non-null crs provided).\n",
      "  return GeometryArray(data, crs=_get_common_crs(to_concat))\n",
      " 44%|███████████████████████████████████████████████████████████▏                                                                          | 137/310 [00:02<00:02, 65.03it/s]/home/martibosch/mambaforge/envs/meteostations-vector-cube/lib/python3.11/site-packages/geopandas/array.py:1459: UserWarning: CRS not set for some of the concatenation inputs. Setting output's CRS as WGS 84 (the single non-null crs provided).\n",
      "  return GeometryArray(data, crs=_get_common_crs(to_concat))\n",
      "/home/martibosch/mambaforge/envs/meteostations-vector-cube/lib/python3.11/site-packages/geopandas/array.py:1459: UserWarning: CRS not set for some of the concatenation inputs. Setting output's CRS as WGS 84 (the single non-null crs provided).\n",
      "  return GeometryArray(data, crs=_get_common_crs(to_concat))\n",
      "/home/martibosch/mambaforge/envs/meteostations-vector-cube/lib/python3.11/site-packages/geopandas/array.py:1459: UserWarning: CRS not set for some of the concatenation inputs. Setting output's CRS as WGS 84 (the single non-null crs provided).\n",
      "  return GeometryArray(data, crs=_get_common_crs(to_concat))\n"
     ]
    },
    {
     "name": "stderr",
     "output_type": "stream",
     "text": [
      "/home/martibosch/mambaforge/envs/meteostations-vector-cube/lib/python3.11/site-packages/geopandas/array.py:1459: UserWarning: CRS not set for some of the concatenation inputs. Setting output's CRS as WGS 84 (the single non-null crs provided).\n",
      "  return GeometryArray(data, crs=_get_common_crs(to_concat))\n",
      " 46%|██████████████████████████████████████████████████████████████▏                                                                       | 144/310 [00:02<00:03, 54.39it/s]/home/martibosch/mambaforge/envs/meteostations-vector-cube/lib/python3.11/site-packages/geopandas/array.py:1459: UserWarning: CRS not set for some of the concatenation inputs. Setting output's CRS as WGS 84 (the single non-null crs provided).\n",
      "  return GeometryArray(data, crs=_get_common_crs(to_concat))\n",
      " 52%|█████████████████████████████████████████████████████████████████████▌                                                                | 161/310 [00:02<00:02, 65.69it/s]/home/martibosch/mambaforge/envs/meteostations-vector-cube/lib/python3.11/site-packages/geopandas/array.py:1459: UserWarning: CRS not set for some of the concatenation inputs. Setting output's CRS as WGS 84 (the single non-null crs provided).\n",
      "  return GeometryArray(data, crs=_get_common_crs(to_concat))\n",
      "/home/martibosch/mambaforge/envs/meteostations-vector-cube/lib/python3.11/site-packages/geopandas/array.py:1459: UserWarning: CRS not set for some of the concatenation inputs. Setting output's CRS as WGS 84 (the single non-null crs provided).\n",
      "  return GeometryArray(data, crs=_get_common_crs(to_concat))\n",
      " 60%|███████████████████████████████████████████████████████████████████████████████▉                                                      | 185/310 [00:03<00:01, 66.70it/s]/home/martibosch/mambaforge/envs/meteostations-vector-cube/lib/python3.11/site-packages/geopandas/array.py:1459: UserWarning: CRS not set for some of the concatenation inputs. Setting output's CRS as WGS 84 (the single non-null crs provided).\n",
      "  return GeometryArray(data, crs=_get_common_crs(to_concat))\n",
      "/home/martibosch/mambaforge/envs/meteostations-vector-cube/lib/python3.11/site-packages/geopandas/array.py:1459: UserWarning: CRS not set for some of the concatenation inputs. Setting output's CRS as WGS 84 (the single non-null crs provided).\n",
      "  return GeometryArray(data, crs=_get_common_crs(to_concat))\n",
      "/home/martibosch/mambaforge/envs/meteostations-vector-cube/lib/python3.11/site-packages/geopandas/array.py:1459: UserWarning: CRS not set for some of the concatenation inputs. Setting output's CRS as WGS 84 (the single non-null crs provided).\n",
      "  return GeometryArray(data, crs=_get_common_crs(to_concat))\n",
      " 69%|████████████████████████████████████████████████████████████████████████████████████████████▉                                         | 215/310 [00:03<00:01, 58.41it/s]/home/martibosch/mambaforge/envs/meteostations-vector-cube/lib/python3.11/site-packages/geopandas/array.py:1459: UserWarning: CRS not set for some of the concatenation inputs. Setting output's CRS as WGS 84 (the single non-null crs provided).\n",
      "  return GeometryArray(data, crs=_get_common_crs(to_concat))\n",
      " 72%|████████████████████████████████████████████████████████████████████████████████████████████████▍                                     | 223/310 [00:03<00:01, 62.48it/s]/home/martibosch/mambaforge/envs/meteostations-vector-cube/lib/python3.11/site-packages/geopandas/array.py:1459: UserWarning: CRS not set for some of the concatenation inputs. Setting output's CRS as WGS 84 (the single non-null crs provided).\n",
      "  return GeometryArray(data, crs=_get_common_crs(to_concat))\n",
      " 77%|███████████████████████████████████████████████████████████████████████████████████████████████████████▎                              | 239/310 [00:04<00:01, 62.13it/s]/home/martibosch/mambaforge/envs/meteostations-vector-cube/lib/python3.11/site-packages/geopandas/array.py:1459: UserWarning: CRS not set for some of the concatenation inputs. Setting output's CRS as WGS 84 (the single non-null crs provided).\n",
      "  return GeometryArray(data, crs=_get_common_crs(to_concat))\n",
      " 82%|█████████████████████████████████████████████████████████████████████████████████████████████████████████████▊                        | 254/310 [00:04<00:00, 59.45it/s]/home/martibosch/mambaforge/envs/meteostations-vector-cube/lib/python3.11/site-packages/geopandas/array.py:1459: UserWarning: CRS not set for some of the concatenation inputs. Setting output's CRS as WGS 84 (the single non-null crs provided).\n",
      "  return GeometryArray(data, crs=_get_common_crs(to_concat))\n",
      "/home/martibosch/mambaforge/envs/meteostations-vector-cube/lib/python3.11/site-packages/geopandas/array.py:1459: UserWarning: CRS not set for some of the concatenation inputs. Setting output's CRS as WGS 84 (the single non-null crs provided).\n",
      "  return GeometryArray(data, crs=_get_common_crs(to_concat))\n",
      " 90%|████████████████████████████████████████████████████████████████████████████████████████████████████████████████████████▏             | 278/310 [00:04<00:00, 69.70it/s]/home/martibosch/mambaforge/envs/meteostations-vector-cube/lib/python3.11/site-packages/geopandas/array.py:1459: UserWarning: CRS not set for some of the concatenation inputs. Setting output's CRS as WGS 84 (the single non-null crs provided).\n",
      "  return GeometryArray(data, crs=_get_common_crs(to_concat))\n",
      "100%|██████████████████████████████████████████████████████████████████████████████████████████████████████████████████████████████████████| 310/310 [00:05<00:00, 58.41it/s]\n"
     ]
    }
   ],
   "source": [
    "data_filepaths = glob.glob(path.join(data_dir, \"*.json\"))\n",
    "\n",
    "ts_df, station_gser = netatmo_utils.process_filepaths(data_filepaths)\n",
    "# drop stations with the same location (likely due to an incorrect set up that led to\n",
    "# automatic location assignment based on the IP address of the wireless network)\n",
    "station_gser = station_gser[~station_gser.duplicated(keep=False)]\n",
    "ts_df = ts_df.loc[:, station_gser.index, :]"
   ]
  },
  {
   "cell_type": "markdown",
   "id": "3c63301d",
   "metadata": {},
   "source": [
    "we now have two pandas objects:\n",
    "- `ts_df` is a dataframe with the time series of station measurements, indexed by variable name, station id and time\n",
    "- `station_gser` is a series with the station location, indexed by station id"
   ]
  },
  {
   "cell_type": "code",
   "execution_count": 7,
   "id": "e1727dfd",
   "metadata": {},
   "outputs": [
    {
     "data": {
      "text/html": [
       "<div>\n",
       "<style scoped>\n",
       "    .dataframe tbody tr th:only-of-type {\n",
       "        vertical-align: middle;\n",
       "    }\n",
       "\n",
       "    .dataframe tbody tr th {\n",
       "        vertical-align: top;\n",
       "    }\n",
       "\n",
       "    .dataframe thead th {\n",
       "        text-align: right;\n",
       "    }\n",
       "</style>\n",
       "<table border=\"1\" class=\"dataframe\">\n",
       "  <thead>\n",
       "    <tr style=\"text-align: right;\">\n",
       "      <th></th>\n",
       "      <th></th>\n",
       "      <th></th>\n",
       "      <th>value</th>\n",
       "    </tr>\n",
       "    <tr>\n",
       "      <th>variable</th>\n",
       "      <th>id</th>\n",
       "      <th>time</th>\n",
       "      <th></th>\n",
       "    </tr>\n",
       "  </thead>\n",
       "  <tbody>\n",
       "    <tr>\n",
       "      <th rowspan=\"5\" valign=\"top\">humidity</th>\n",
       "      <th rowspan=\"5\" valign=\"top\">70:ee:50:00:10:f0</th>\n",
       "      <th>2021-08-12 13:00:06</th>\n",
       "      <td>50.0</td>\n",
       "    </tr>\n",
       "    <tr>\n",
       "      <th>2021-08-12 14:00:11</th>\n",
       "      <td>49.0</td>\n",
       "    </tr>\n",
       "    <tr>\n",
       "      <th>2021-08-12 15:00:16</th>\n",
       "      <td>50.0</td>\n",
       "    </tr>\n",
       "    <tr>\n",
       "      <th>2021-08-12 16:00:12</th>\n",
       "      <td>49.0</td>\n",
       "    </tr>\n",
       "    <tr>\n",
       "      <th>2021-08-12 17:00:10</th>\n",
       "      <td>53.0</td>\n",
       "    </tr>\n",
       "  </tbody>\n",
       "</table>\n",
       "</div>"
      ],
      "text/plain": [
       "                                                value\n",
       "variable id                time                      \n",
       "humidity 70:ee:50:00:10:f0 2021-08-12 13:00:06   50.0\n",
       "                           2021-08-12 14:00:11   49.0\n",
       "                           2021-08-12 15:00:16   50.0\n",
       "                           2021-08-12 16:00:12   49.0\n",
       "                           2021-08-12 17:00:10   53.0"
      ]
     },
     "execution_count": 7,
     "metadata": {},
     "output_type": "execute_result"
    }
   ],
   "source": [
    "ts_df.head()"
   ]
  },
  {
   "cell_type": "markdown",
   "id": "03bd1ced",
   "metadata": {},
   "source": [
    "now, for each station, convert its respective the dataframe to dask and instantiate a tstore object with it; put the tstore objects in a dictionary indexed by station id"
   ]
  },
  {
   "cell_type": "code",
   "execution_count": 8,
   "id": "aaa8fc54",
   "metadata": {},
   "outputs": [],
   "source": [
    "id_col = \"id\"\n",
    "time_col = \"time\"\n",
    "chunksize = 100\n",
    "ts_dict = {\n",
    "    _id: tstore.TS(\n",
    "        dd.from_pandas(df.drop(id_col, axis=1), chunksize=chunksize).set_index(time_col)\n",
    "    )\n",
    "    for _id, df in ts_df.reset_index().groupby(id_col)\n",
    "}"
   ]
  },
  {
   "cell_type": "markdown",
   "id": "8f860107",
   "metadata": {},
   "source": [
    "TSArray"
   ]
  },
  {
   "cell_type": "code",
   "execution_count": null,
   "id": "2338a4bd",
   "metadata": {},
   "outputs": [],
   "source": [
    "df_ser = pd.Series(tstore.TSArray(list(ts_dict.values())), index=ts_dict.keys())\n",
    "df_ser"
   ]
  },
  {
   "cell_type": "code",
   "execution_count": null,
   "id": "c6f6378e",
   "metadata": {},
   "outputs": [],
   "source": [
    "var_col = \"variable\"\n",
    "df_attrs = pd.DataFrame()\n",
    "for var, var_df in ts_df.reset_index().groupby(var_col):\n",
    "    id_gb = var_df.groupby(id_col)\n",
    "    df_attrs[var] = pd.Series(\n",
    "        tstore.TSArray(\n",
    "            [\n",
    "                tstore.TS(\n",
    "                    dd.from_pandas(\n",
    "                        df.drop([id_col, var_col], axis=1), chunksize=chunksize\n",
    "                    ).set_index(time_col)\n",
    "                )\n",
    "                for _, df in id_gb\n",
    "            ]\n",
    "        ),\n",
    "        index=[_id for _id, _ in id_gb],\n",
    "    )\n",
    "tsdf = tstore.TSDF(df_attrs)"
   ]
  },
  {
   "cell_type": "code",
   "execution_count": null,
   "id": "cd8ade4e",
   "metadata": {},
   "outputs": [],
   "source": [
    "base_dir = \"/tmp/dummy_tstore\"\n",
    "partition_str = None  # TO IMPLEMENT\n",
    "tstore_structure = \"id-var\"\n",
    "overwrite = True\n",
    "tsdf.to_tstore(\n",
    "    base_dir,\n",
    "    partition_str=partition_str,\n",
    "    tstore_structure=tstore_structure,\n",
    "    overwrite=overwrite,\n",
    ")"
   ]
  },
  {
   "cell_type": "code",
   "execution_count": null,
   "id": "65d8e261",
   "metadata": {},
   "outputs": [],
   "source": [
    "tsdf = tstore.open_tsdf(base_dir)"
   ]
  },
  {
   "cell_type": "code",
   "execution_count": null,
   "id": "6a242630",
   "metadata": {},
   "outputs": [],
   "source": [
    "tsdf[\"temperature\"].iloc[0]"
   ]
  },
  {
   "cell_type": "code",
   "execution_count": null,
   "id": "194f5abb",
   "metadata": {},
   "outputs": [],
   "source": [
    "tslong = open_tslong(base_dir, ts_variables=[\"humidity\"])\n",
    "tslong"
   ]
  },
  {
   "cell_type": "markdown",
   "id": "669971f5",
   "metadata": {},
   "source": [
    "\n",
    "## 1. user-friendly interface to instantiating:\n",
    "   - TSDF: from a dataframe\n",
    "   - GeoTSDF: from a dataframe and a geoseries\n",
    "\n",
    "Starting point: we have ts_df and station_gser\n",
    "### Option a)\n",
    "- gpd.GeoDataFrame.to_parquet"
   ]
  },
  {
   "cell_type": "code",
   "execution_count": null,
   "id": "e566bb70",
   "metadata": {},
   "outputs": [],
   "source": [
    "# gpd.GeoDataFrame(ts_df\n",
    "for group, group_df in ts_df.reset_index().groupby(\"id\"):\n",
    "    break"
   ]
  },
  {
   "cell_type": "code",
   "execution_count": null,
   "id": "07a867fc",
   "metadata": {},
   "outputs": [],
   "source": [
    "for ggroup, ggroup_df in group_df.drop(\"id\", axis=1).groupby(\"variable\"):\n",
    "    break\n",
    "ggroup_df.drop(\"variable\", axis=1).set_index(\"time\").squeeze()  # .rename(ggroup)"
   ]
  },
  {
   "cell_type": "code",
   "execution_count": null,
   "id": "3165c2fc",
   "metadata": {},
   "outputs": [],
   "source": [
    "import geopandas as gpd"
   ]
  },
  {
   "cell_type": "code",
   "execution_count": null,
   "id": "3dc6b83a",
   "metadata": {},
   "outputs": [],
   "source": [
    "gpd.GeoDataFrame(\n",
    "    ts_df.reset_index()\n",
    "    .groupby(\"id\")\n",
    "    .apply(\n",
    "        lambda group_df: group_df.drop(\"id\", axis=1)\n",
    "        .groupby(\"variable\")\n",
    "        .apply(lambda ggroup_df: ggroup_df.drop(\"variable\", axis=1).set_index(\"time\"))\n",
    "    )\n",
    "    .reset_index(level=(\"variable\", \"time\")),\n",
    "    geometry=station_gser,\n",
    ")"
   ]
  },
  {
   "cell_type": "code",
   "execution_count": null,
   "id": "f692c70c",
   "metadata": {},
   "outputs": [],
   "source": [
    "ts_df.reset_index().groupby(\"id\").apply(\n",
    "    lambda station_df: station_df.drop(\"id\", axis=1)\n",
    "    .groupby(\"variable\")\n",
    "    .apply(lambda var_df: var_df.drop(\"variable\", axis=1).set_index(\"time\"))\n",
    ")"
   ]
  },
  {
   "cell_type": "code",
   "execution_count": null,
   "id": "6cd2cf16",
   "metadata": {},
   "outputs": [],
   "source": [
    "# gpd.GeoDataFrame(foo, geometry=station_gser)\n",
    "{\n",
    "    variable: ts_ser\n",
    "    for variable, ts_ser in group_df.drop(\"id\", axis=1)\n",
    "    .groupby(\"variable\")\n",
    "    .apply(lambda ggroup_df: ggroup_df.drop(\"variable\", axis=1).set_index(\"time\"))\n",
    "}"
   ]
  },
  {
   "cell_type": "code",
   "execution_count": null,
   "id": "30eb9c27",
   "metadata": {
    "lines_to_next_cell": 2
   },
   "outputs": [],
   "source": [
    "group_df.drop(\"id\", axis=1).groupby(\"variable\").apply(\n",
    "    lambda ggroup_df: ggroup_df.drop(\"variable\", axis=1).set_index(\"time\")\n",
    ")"
   ]
  },
  {
   "cell_type": "code",
   "execution_count": null,
   "id": "3580b3cc",
   "metadata": {
    "lines_to_next_cell": 2
   },
   "outputs": [],
   "source": [
    "# pd.DataFrame({_id: ts_dict.items()))\n",
    "pd.DataFrame(\n",
    "    {\n",
    "        _id: tstore.TS(dd.from_pandas(df.drop(id_col, axis=1), chunksize=chunksize))\n",
    "        for _id, df in ts_df.reset_index().groupby(id_col)\n",
    "    }\n",
    ")"
   ]
  },
  {
   "cell_type": "code",
   "execution_count": null,
   "id": "90165ff6",
   "metadata": {},
   "outputs": [],
   "source": [
    "tsdf = tstore.TSDF(pd.DataFrame(ts_dict), id_col=id_col)"
   ]
  },
  {
   "cell_type": "code",
   "execution_count": null,
   "id": "a11c72bd",
   "metadata": {},
   "outputs": [],
   "source": [
    "# transform ts_df to dask partitioning by station id\n",
    "#\n",
    "dd.from_pandas(\n",
    "    ts_df.reset_index().set_index(\"id\"),\n",
    ")"
   ]
  },
  {
   "cell_type": "code",
   "execution_count": null,
   "id": "bb9eed72",
   "metadata": {},
   "outputs": [],
   "source": [
    "def _add_partition_cols(ts_df):\n",
    "    if \"time\" not in ts_df.columns:\n",
    "        ts_df = ts_df.reset_index(level=\"time\")\n",
    "    else:\n",
    "        ts_df = ts_df.copy()  # avoid modifying the original dataframe\n",
    "    partition_cols = [\"year\", \"month\"]\n",
    "    for partition_col in partition_cols:\n",
    "        ts_df[partition_col] = getattr(ts_df[\"time\"].dt, partition_col)\n",
    "    return ts_df, partition_cols\n",
    "\n",
    "\n",
    "def write_parquet(ts_df, filepath):\n",
    "    ts_df, partition_cols = _add_partition_cols(ts_df)\n",
    "\n",
    "    ts_df.to_parquet(\n",
    "        filepath,\n",
    "        engine=\"pyarrow\",\n",
    "        write_index=True,\n",
    "        custom_metadata=None,\n",
    "        write_metadata_file=True,\n",
    "        name_function=lambda i: f\"part.{i}.parquet\",\n",
    "        partition_on=partition_cols,\n",
    "        # Encoding\n",
    "        schema=\"infer\",\n",
    "        compression=\"snappy\",\n",
    "        # Writing options\n",
    "        append=False,\n",
    "        overwrite=False,\n",
    "        ignore_divisions=False,\n",
    "        compute=True,\n",
    "    )"
   ]
  },
  {
   "cell_type": "code",
   "execution_count": null,
   "id": "8a8c61f8",
   "metadata": {},
   "outputs": [],
   "source": [
    "df, cols = _add_partition_cols(ts_df)"
   ]
  },
  {
   "cell_type": "code",
   "execution_count": null,
   "id": "05fae7de",
   "metadata": {
    "lines_to_next_cell": 2
   },
   "outputs": [],
   "source": []
  },
  {
   "cell_type": "code",
   "execution_count": null,
   "id": "7cce74f0",
   "metadata": {},
   "outputs": [],
   "source": [
    "\n",
    "with tempfile.TemporaryDirectory() as tmp_dir:\n",
    "    filepath = path.join(tmp_dir, \"netatmo.parquet\")\n",
    "    write_parquet(ts_df, filepath)"
   ]
  }
 ],
 "metadata": {
  "jupytext": {
   "cell_metadata_filter": "tags,-all"
  },
  "kernelspec": {
   "display_name": "Python (meteostations-vector-cube)",
   "language": "python",
   "name": "meteostations-vector-cube"
  },
  "language_info": {
   "codemirror_mode": {
    "name": "ipython",
    "version": 3
   },
   "file_extension": ".py",
   "mimetype": "text/x-python",
   "name": "python",
   "nbconvert_exporter": "python",
   "pygments_lexer": "ipython3",
   "version": "3.11.6"
  }
 },
 "nbformat": 4,
 "nbformat_minor": 5
}

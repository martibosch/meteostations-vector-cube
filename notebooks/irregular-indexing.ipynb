{
 "cells": [
  {
   "cell_type": "code",
   "execution_count": 1,
   "id": "2f9b45b3",
   "metadata": {},
   "outputs": [],
   "source": [
    "%load_ext autoreload\n",
    "%autoreload 2"
   ]
  },
  {
   "cell_type": "code",
   "execution_count": 2,
   "id": "5b20d754",
   "metadata": {},
   "outputs": [],
   "source": [
    "import glob\n",
    "import tempfile\n",
    "from os import path\n",
    "\n",
    "import bigtree\n",
    "import matplotlib.pyplot as plt\n",
    "import pandas as pd\n",
    "\n",
    "from tstore.ts import TS, TSDF"
   ]
  },
  {
   "cell_type": "code",
   "execution_count": 3,
   "id": "bcd9706b",
   "metadata": {},
   "outputs": [],
   "source": [
    "ts_df_filepath = \"../data/interim/netatmo-lausanne-aug-21/ts-df.csv\"\n",
    "# station_gser_filepath = \"../data/raw/netatmo-lausanne-aug-21/station-gser.gpkg"
   ]
  },
  {
   "cell_type": "code",
   "execution_count": 4,
   "id": "12e84bf7",
   "metadata": {},
   "outputs": [
    {
     "data": {
      "text/html": [
       "<div>\n",
       "<style scoped>\n",
       "    .dataframe tbody tr th:only-of-type {\n",
       "        vertical-align: middle;\n",
       "    }\n",
       "\n",
       "    .dataframe tbody tr th {\n",
       "        vertical-align: top;\n",
       "    }\n",
       "\n",
       "    .dataframe thead th {\n",
       "        text-align: right;\n",
       "    }\n",
       "</style>\n",
       "<table border=\"1\" class=\"dataframe\">\n",
       "  <thead>\n",
       "    <tr style=\"text-align: right;\">\n",
       "      <th></th>\n",
       "      <th>variable</th>\n",
       "      <th>id</th>\n",
       "      <th>time</th>\n",
       "      <th>value</th>\n",
       "    </tr>\n",
       "  </thead>\n",
       "  <tbody>\n",
       "    <tr>\n",
       "      <th>0</th>\n",
       "      <td>humidity</td>\n",
       "      <td>70:ee:50:00:10:f0</td>\n",
       "      <td>2021-08-12 13:00:06</td>\n",
       "      <td>50.0</td>\n",
       "    </tr>\n",
       "    <tr>\n",
       "      <th>1</th>\n",
       "      <td>humidity</td>\n",
       "      <td>70:ee:50:00:10:f0</td>\n",
       "      <td>2021-08-12 14:00:11</td>\n",
       "      <td>49.0</td>\n",
       "    </tr>\n",
       "    <tr>\n",
       "      <th>2</th>\n",
       "      <td>humidity</td>\n",
       "      <td>70:ee:50:00:10:f0</td>\n",
       "      <td>2021-08-12 15:00:16</td>\n",
       "      <td>50.0</td>\n",
       "    </tr>\n",
       "    <tr>\n",
       "      <th>3</th>\n",
       "      <td>humidity</td>\n",
       "      <td>70:ee:50:00:10:f0</td>\n",
       "      <td>2021-08-12 16:00:12</td>\n",
       "      <td>49.0</td>\n",
       "    </tr>\n",
       "    <tr>\n",
       "      <th>4</th>\n",
       "      <td>humidity</td>\n",
       "      <td>70:ee:50:00:10:f0</td>\n",
       "      <td>2021-08-12 17:00:10</td>\n",
       "      <td>53.0</td>\n",
       "    </tr>\n",
       "    <tr>\n",
       "      <th>...</th>\n",
       "      <td>...</td>\n",
       "      <td>...</td>\n",
       "      <td>...</td>\n",
       "      <td>...</td>\n",
       "    </tr>\n",
       "    <tr>\n",
       "      <th>381071</th>\n",
       "      <td>wind_strength</td>\n",
       "      <td>70:ee:50:7f:98:de</td>\n",
       "      <td>2021-08-23 22:00:06</td>\n",
       "      <td>2.0</td>\n",
       "    </tr>\n",
       "    <tr>\n",
       "      <th>381072</th>\n",
       "      <td>wind_strength</td>\n",
       "      <td>70:ee:50:7f:98:de</td>\n",
       "      <td>2021-08-25 01:00:04</td>\n",
       "      <td>3.0</td>\n",
       "    </tr>\n",
       "    <tr>\n",
       "      <th>381073</th>\n",
       "      <td>wind_strength</td>\n",
       "      <td>70:ee:50:7f:98:de</td>\n",
       "      <td>2021-08-25 02:00:05</td>\n",
       "      <td>3.0</td>\n",
       "    </tr>\n",
       "    <tr>\n",
       "      <th>381074</th>\n",
       "      <td>wind_strength</td>\n",
       "      <td>70:ee:50:7f:98:de</td>\n",
       "      <td>2021-08-25 03:00:06</td>\n",
       "      <td>2.0</td>\n",
       "    </tr>\n",
       "    <tr>\n",
       "      <th>381075</th>\n",
       "      <td>wind_strength</td>\n",
       "      <td>70:ee:50:7f:98:de</td>\n",
       "      <td>2021-08-25 04:00:09</td>\n",
       "      <td>3.0</td>\n",
       "    </tr>\n",
       "  </tbody>\n",
       "</table>\n",
       "<p>381076 rows × 4 columns</p>\n",
       "</div>"
      ],
      "text/plain": [
       "             variable                 id                time  value\n",
       "0            humidity  70:ee:50:00:10:f0 2021-08-12 13:00:06   50.0\n",
       "1            humidity  70:ee:50:00:10:f0 2021-08-12 14:00:11   49.0\n",
       "2            humidity  70:ee:50:00:10:f0 2021-08-12 15:00:16   50.0\n",
       "3            humidity  70:ee:50:00:10:f0 2021-08-12 16:00:12   49.0\n",
       "4            humidity  70:ee:50:00:10:f0 2021-08-12 17:00:10   53.0\n",
       "...               ...                ...                 ...    ...\n",
       "381071  wind_strength  70:ee:50:7f:98:de 2021-08-23 22:00:06    2.0\n",
       "381072  wind_strength  70:ee:50:7f:98:de 2021-08-25 01:00:04    3.0\n",
       "381073  wind_strength  70:ee:50:7f:98:de 2021-08-25 02:00:05    3.0\n",
       "381074  wind_strength  70:ee:50:7f:98:de 2021-08-25 03:00:06    2.0\n",
       "381075  wind_strength  70:ee:50:7f:98:de 2021-08-25 04:00:09    3.0\n",
       "\n",
       "[381076 rows x 4 columns]"
      ]
     },
     "execution_count": 4,
     "metadata": {},
     "output_type": "execute_result"
    }
   ],
   "source": [
    "ts_df = pd.read_csv(ts_df_filepath)\n",
    "ts_df[\"time\"] = pd.to_datetime(ts_df[\"time\"])\n",
    "ts_df"
   ]
  },
  {
   "cell_type": "markdown",
   "id": "c731882a",
   "metadata": {
    "lines_to_next_cell": 2
   },
   "source": [
    "### Storing irregular time series\n",
    "\n",
    "There are three types of Netatmo modules: one for temperature and humidity, another for wind and a last one for rain."
   ]
  },
  {
   "cell_type": "code",
   "execution_count": 5,
   "id": "1f73c768",
   "metadata": {},
   "outputs": [],
   "source": [
    "# var_ts_df = ts_df.set_index([\"variable\"])\n",
    "# def to_module_ts_df(var_ts_df, vars):\n",
    "#     return (\n",
    "#         var_ts_df.loc[vars]\n",
    "#         .reset_index()\n",
    "#         .set_index([\"variable\", \"id\", \"time\"])[\"value\"]\n",
    "#         .unstack(level=\"variable\")\n",
    "#     )\n",
    "# this approach is faster\n",
    "def to_module_ts_df(ts_df, vars):\n",
    "    return (\n",
    "        ts_df[ts_df[\"variable\"].isin(vars)]\n",
    "        .set_index([\"variable\", \"id\", \"time\"])[\"value\"]\n",
    "        .unstack(level=\"variable\")\n",
    "    )\n",
    "\n",
    "\n",
    "module1_ts_df = to_module_ts_df(ts_df, [\"temperature\", \"humidity\"])\n",
    "module2_ts_df = to_module_ts_df(ts_df, [\"rain_live\"])\n",
    "module3_ts_df = to_module_ts_df(ts_df, [\"wind_angle\", \"wind_strength\"])"
   ]
  },
  {
   "cell_type": "markdown",
   "id": "cfd2d40c",
   "metadata": {},
   "source": [
    "Consider the following station"
   ]
  },
  {
   "cell_type": "code",
   "execution_count": 6,
   "id": "d9c1f445",
   "metadata": {},
   "outputs": [
    {
     "name": "stdout",
     "output_type": "stream",
     "text": [
      "True\n",
      "True\n",
      "False\n"
     ]
    }
   ],
   "source": [
    "station_id = \"70:ee:50:7a:e3:4a\"\n",
    "\n",
    "# def plot_station_modules(station_id, module1_ts_df, module2_ts_df, module3_ts_df):\n",
    "#     _, ax = plt.subplots()\n",
    "#     for module_ts_df in [module1_ts_df, module2_ts_df, module3_ts_df]:\n",
    "#         try:\n",
    "#             module_ts_df.loc[station_id].plot(ax=ax, marker=\".\", linestyle=\"none\")\n",
    "#         except KeyError:\n",
    "#             pass\n",
    "#     return ax\n",
    "\n",
    "# _ = plot_station_modules(station_id, module1_ts_df, module2_ts_df, module3_ts_df)\n",
    "\n",
    "for module_ts_df in [module1_ts_df, module2_ts_df, module3_ts_df]:\n",
    "    print(station_id in module_ts_df.index.get_level_values(\"id\"))"
   ]
  },
  {
   "cell_type": "markdown",
   "id": "124b5847",
   "metadata": {},
   "source": [
    "As we can see, the station has the first two modules (temperature/humidity and rain)\n",
    "but not the third one (wind)."
   ]
  },
  {
   "cell_type": "code",
   "execution_count": 7,
   "id": "2ec50128",
   "metadata": {},
   "outputs": [
    {
     "data": {
      "text/plain": [
       "<Axes: xlabel='time'>"
      ]
     },
     "execution_count": 7,
     "metadata": {},
     "output_type": "execute_result"
    },
    {
     "data": {
      "image/png": "[encoded data removed]",
      "text/plain": [
       "<Figure size 640x480 with 1 Axes>"
      ]
     },
     "metadata": {},
     "output_type": "display_data"
    }
   ],
   "source": [
    "plot_style_kwargs = {\"marker\": \".\", \"linestyle\": \"none\"}\n",
    "ax = module1_ts_df.loc[station_id].plot(**plot_style_kwargs)\n",
    "module2_ts_df.loc[station_id].plot(ax=ax, **plot_style_kwargs)"
   ]
  },
  {
   "cell_type": "markdown",
   "id": "3205a282",
   "metadata": {
    "lines_to_next_cell": 2
   },
   "source": [
    "We can see that the rain module has a lot of missing values. Therefore, it may make sense to index them differently."
   ]
  },
  {
   "cell_type": "code",
   "execution_count": 8,
   "id": "27f9621f",
   "metadata": {},
   "outputs": [
    {
     "name": "stdout",
     "output_type": "stream",
     "text": [
      "Number of files for module 1: 211\n",
      "Number of files for module 2: 119\n"
     ]
    }
   ],
   "source": [
    "def tstore_num_files(ts_data, partition_cols):\n",
    "    with tempfile.TemporaryDirectory() as tmp_dir:\n",
    "        TS(ts_data).to_tstore(tmp_dir, partition_cols)\n",
    "        return len(glob.glob(path.join(tmp_dir, \"**\", \"*.parquet\"), recursive=True))\n",
    "\n",
    "\n",
    "partition_cols = [\"month\", \"day\", \"hour\"]\n",
    "print(\n",
    "    \"Number of files for module 1: \"\n",
    "    f\"{tstore_num_files(module1_ts_df.loc[station_id], partition_cols)}\"\n",
    ")\n",
    "print(\n",
    "    \"Number of files for module 2: \"\n",
    "    f\"{tstore_num_files(module2_ts_df.loc[station_id], partition_cols)}\"\n",
    ")"
   ]
  },
  {
   "cell_type": "code",
   "execution_count": null,
   "id": "b57f7613",
   "metadata": {},
   "outputs": [],
   "source": []
  },
  {
   "cell_type": "code",
   "execution_count": null,
   "id": "7856b3f5",
   "metadata": {
    "lines_to_next_cell": 2
   },
   "outputs": [],
   "source": [
    "module_2_ts = TS(module2_ts_df.loc[station_id])\n",
    "with tempfile.TemporaryDirectory() as tmp_dir:\n",
    "    module_2_ts.to_tstore(tmp_dir, [\"month\", \"day\", \"hour\"])\n",
    "    # bigtree.print_tree(\n",
    "    #     bigtree.list_to_tree(\n",
    "    #         glob.glob(path.join(tmp_dir, \"**\", \"*.parquet\"), recursive=True)\n",
    "    #     )\n",
    "    # )\n",
    "    files = glob.glob(path.join(tmp_dir, \"**\", \"*.parquet\"), recursive=True)\n",
    "print(len(files))"
   ]
  },
  {
   "cell_type": "code",
   "execution_count": null,
   "id": "5515df2f",
   "metadata": {},
   "outputs": [],
   "source": [
    "df = (\n",
    "    ts_df.set_index([\"variable\", \"id\", \"time\"])[\"value\"]\n",
    "    .unstack(level=\"variable\")\n",
    "    .loc[\"70:ee:50:7a:e3:4a\"]\n",
    ")\n",
    "df"
   ]
  },
  {
   "cell_type": "code",
   "execution_count": null,
   "id": "0ddfdb2f",
   "metadata": {},
   "outputs": [],
   "source": [
    "df[~df[\"rain_live\"].isna()]"
   ]
  },
  {
   "cell_type": "code",
   "execution_count": null,
   "id": "2f08cfb2",
   "metadata": {},
   "outputs": [],
   "source": [
    "station_obs_count_ser = ts_df.groupby(\"id\")[\"value\"].count()\n",
    "prop_nan_df = (\n",
    "    ts_df.set_index([\"variable\", \"id\", \"time\"])[\"value\"]\n",
    "    .unstack(level=\"variable\")\n",
    "    .isna()\n",
    "    .groupby(level=\"id\")\n",
    "    .sum()\n",
    "    .apply(lambda x: x / station_obs_count_ser)\n",
    ")\n",
    "prop_nan_df"
   ]
  },
  {
   "cell_type": "code",
   "execution_count": null,
   "id": "cb703d98",
   "metadata": {},
   "outputs": [],
   "source": [
    "prop_nan_df[\"wind_angle\"].sort_values()"
   ]
  },
  {
   "cell_type": "code",
   "execution_count": null,
   "id": "4f245ada",
   "metadata": {},
   "outputs": [],
   "source": [
    "station_id, var = ts_df.sample(1).iloc[0].loc[[\"id\", \"variable\"]]\n",
    "ts_ser = (\n",
    "    ts_df.set_index([\"id\", \"variable\"])\n",
    "    .sort_index()\n",
    "    .loc[(station_id, var)]\n",
    "    .reset_index(drop=True)\n",
    "    .set_index(\"time\")\n",
    "    .rename(columns={\"value\": var})[var]\n",
    ")\n",
    "ts_ser"
   ]
  },
  {
   "cell_type": "code",
   "execution_count": null,
   "id": "ed844562",
   "metadata": {},
   "outputs": [],
   "source": [
    "ts = TS(pa.Table.from_pandas(ts_ser.to_frame()))\n",
    "ts"
   ]
  },
  {
   "cell_type": "code",
   "execution_count": null,
   "id": "91a81c26",
   "metadata": {},
   "outputs": [],
   "source": [
    "with tempfile.TemporaryDirectory() as tmp_dir:\n",
    "    ts.to_tstore(tmp_dir, \"week\")\n",
    "    bigtree.print_tree(\n",
    "        bigtree.list_to_tree(\n",
    "            glob.glob(path.join(tmp_dir, \"**\", \"*.parquet\"), recursive=True)\n",
    "        )\n",
    "    )"
   ]
  },
  {
   "cell_type": "code",
   "execution_count": null,
   "id": "7a580c28",
   "metadata": {},
   "outputs": [],
   "source": [
    "def generate_ts_array():\n",
    "    pass"
   ]
  },
  {
   "cell_type": "code",
   "execution_count": null,
   "id": "97d6cbe5",
   "metadata": {},
   "outputs": [],
   "source": [
    "pa.array([])"
   ]
  },
  {
   "cell_type": "code",
   "execution_count": null,
   "id": "e626e082",
   "metadata": {},
   "outputs": [],
   "source": [
    "# table = pa.Table.from_pandas(add_partitioning_cols(ts_df))\n",
    "# partition by date (day) - see https://dataintellect.com/blog/apache-arrow-and-partitioned-datasets/\n",
    "# table = pa.Table.from_pandas(ts_df.assign(time=ts_df[\"time\"].dt.strftime(\"%d-%m-%y\")))\n",
    "table = pa.Table.from_pandas(ts_df)\n",
    "table"
   ]
  },
  {
   "cell_type": "code",
   "execution_count": null,
   "id": "3f454eaf",
   "metadata": {
    "lines_to_next_cell": 2
   },
   "outputs": [],
   "source": [
    "def add_partition_cols(table, partition_cols):\n",
    "    if isinstance(partition_cols, str):\n",
    "        partition_cols = [partition_cols]\n",
    "    for partition_col in partition_cols:\n",
    "        table = table.append_column(\n",
    "            partition_col, getattr(pc, partition_col)(table.column(\"time\"))\n",
    "        )\n",
    "    return table\n",
    "\n",
    "\n",
    "add_partition_cols(table, \"week\")"
   ]
  },
  {
   "cell_type": "code",
   "execution_count": null,
   "id": "8d0d452b",
   "metadata": {},
   "outputs": [],
   "source": [
    "with tempfile.TemporaryDirectory() as tmp_dir:\n",
    "    # we assume that our data size scales mainly with space and time rather than other categorical variables\n",
    "    # we also want to avoid over-partitioning our data (official recommendations are of large row groups: 512MB-1GB https://parquet.apache.org/docs/file-format/configurations/)\n",
    "    pq.write_to_dataset(\n",
    "        add_partition_cols(table, \"week\"), tmp_dir, partition_cols=[\"variable\", \"week\"]\n",
    "    )\n",
    "    bigtree.print_tree(\n",
    "        bigtree.list_to_tree(\n",
    "            glob.glob(path.join(tmp_dir, \"**\", \"*.parquet\"), recursive=True)\n",
    "        )\n",
    "    )\n",
    "    # print(glob.glob(path.join(tmp_dir, \"**\", \"*.parquet\"), recursive=True))"
   ]
  },
  {
   "cell_type": "code",
   "execution_count": null,
   "id": "391c5b33",
   "metadata": {},
   "outputs": [],
   "source": [
    "with tempfile.TemporaryDirectory() as tmp_dir:\n",
    "    # we assume that our data size scales mainly with space and time rather than other categorical variables\n",
    "    # we also want to avoid over-partitioning our data (official recommendations are of large row groups: 512MB-1GB https://parquet.apache.org/docs/file-format/configurations/)\n",
    "    pq.write_to_dataset(\n",
    "        add_partition_cols(table, \"week\"), tmp_dir, partition_cols=[\"id\", \"week\"]\n",
    "    )\n",
    "    bigtree.print_tree(\n",
    "        bigtree.list_to_tree(\n",
    "            glob.glob(path.join(tmp_dir, \"**\", \"*.parquet\"), recursive=True)[:50]\n",
    "        )\n",
    "    )"
   ]
  },
  {
   "cell_type": "code",
   "execution_count": null,
   "id": "eb31b626",
   "metadata": {},
   "outputs": [],
   "source": [
    "def add_partitioning_cols(df):\n",
    "    \"\"\"Add partitioning columns to the dataframe.\"\"\"\n",
    "    # TODO: as function of TS_partitioning_string (YYYY/MM/DD) or (YY/DOY/HH)\n",
    "    # dayofyear, dayofweek, hour,  minute, ...\n",
    "    df = df.copy()\n",
    "    df[\"day\"] = df[\"time\"].dt.day.values\n",
    "    # df[\"month\"] = df[\"time\"].dt.month.values\n",
    "    # df[\"year\"] = df[\"time\"].dt.year.values\n",
    "    # partition_on = [\"year\", \"month\"]\n",
    "    return df  # , partition_on"
   ]
  },
  {
   "cell_type": "code",
   "execution_count": null,
   "id": "4c776e2b",
   "metadata": {},
   "outputs": [],
   "source": [
    "with tempfile.TemporaryDirectory() as tmp_dir:\n",
    "    # we assume that our data size scales mainly with space and time rather than other categorical variables\n",
    "    # we also want to avoid over-partitioning our data (official recommendations are of large row groups: 512MB-1GB https://parquet.apache.org/docs/file-format/configurations/)\n",
    "    pq.write_to_dataset(table, tmp_dir, partition_cols=[\"id\", \"time\"])\n",
    "    bigtree.print_tree(\n",
    "        bigtree.list_to_tree(\n",
    "            glob.glob(path.join(tmp_dir, \"**\", \"*.parquet\"), recursive=True)\n",
    "        )\n",
    "    )"
   ]
  },
  {
   "cell_type": "code",
   "execution_count": null,
   "id": "c8171353",
   "metadata": {},
   "outputs": [],
   "source": [
    "schema = pa.Schema.from_pandas(ts_df)\n",
    "schema"
   ]
  }
 ],
 "metadata": {
  "kernelspec": {
   "display_name": "Python (meteostations-vector-cube)",
   "language": "python",
   "name": "meteostations-vector-cube"
  },
  "language_info": {
   "codemirror_mode": {
    "name": "ipython",
    "version": 3
   },
   "file_extension": ".py",
   "mimetype": "text/x-python",
   "name": "python",
   "nbconvert_exporter": "python",
   "pygments_lexer": "ipython3",
   "version": "3.11.7"
  }
 },
 "nbformat": 4,
 "nbformat_minor": 5
}

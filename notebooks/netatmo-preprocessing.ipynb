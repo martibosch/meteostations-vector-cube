{
 "cells": [
  {
   "cell_type": "markdown",
   "id": "1a9e7af7",
   "metadata": {},
   "source": [
    "# Netatmo data processing"
   ]
  },
  {
   "cell_type": "code",
   "execution_count": null,
   "id": "ee19c392",
   "metadata": {},
   "outputs": [],
   "source": [
    "import glob\n",
    "from os import path\n",
    "\n",
    "from meteostations_vector_cube import netatmo_utils"
   ]
  },
  {
   "cell_type": "markdown",
   "id": "9d32c058",
   "metadata": {},
   "source": [
    "## Load multi-variate data from list of JSON responses"
   ]
  },
  {
   "cell_type": "code",
   "execution_count": null,
   "id": "f9eb0a20",
   "metadata": {
    "tags": [
     "parameters"
    ]
   },
   "outputs": [],
   "source": [
    "data_dir = \"../data/raw/netatmo-lausanne-aug-21\"\n",
    "dst_ts_df_filepath = \"../data/interim/netatmo-lausanne-aug-21/ts-df.csv\"\n",
    "dst_station_gser_filepath = \"../data/interim/netatmo-lausanne-aug-21/station-gser.gpkg\""
   ]
  },
  {
   "cell_type": "code",
   "execution_count": null,
   "id": "3749d8a4",
   "metadata": {},
   "outputs": [],
   "source": [
    "data_filepaths = glob.glob(path.join(data_dir, \"*.json\"))\n",
    "\n",
    "# use the following function to load the data from the JSON files into a pandas data\n",
    "# frame (time-series of measurements) and a geopandas geo-series (station locations)\n",
    "ts_df, station_gser = netatmo_utils.process_filepaths(data_filepaths)\n",
    "# drop stations with the same location (likely due to an incorrect set up that led to\n",
    "# automatic location assignment based on the IP address of the wireless network)\n",
    "station_gser = station_gser[~station_gser.duplicated(keep=False)]\n",
    "ts_df = ts_df.loc[:, station_gser.index, :]"
   ]
  },
  {
   "cell_type": "code",
   "execution_count": null,
   "id": "f5076aef",
   "metadata": {},
   "outputs": [],
   "source": [
    "ts_df.head()"
   ]
  },
  {
   "cell_type": "code",
   "execution_count": null,
   "id": "744ec631",
   "metadata": {},
   "outputs": [],
   "source": [
    "station_gser.head()"
   ]
  },
  {
   "cell_type": "markdown",
   "id": "2fca4a9b",
   "metadata": {},
   "source": [
    "## Dump to files"
   ]
  },
  {
   "cell_type": "code",
   "execution_count": null,
   "id": "dbf8bbef",
   "metadata": {},
   "outputs": [],
   "source": [
    "ts_df.to_csv(dst_ts_df_filepath)\n",
    "station_gser.to_file(dst_station_gser_filepath)"
   ]
  }
 ],
 "metadata": {
  "jupytext": {
   "cell_metadata_filter": "tags,-all"
  },
  "kernelspec": {
   "display_name": "Python (meteostations-vector-cube)",
   "language": "python",
   "name": "meteostations-vector-cube"
  }
 },
 "nbformat": 4,
 "nbformat_minor": 5
}
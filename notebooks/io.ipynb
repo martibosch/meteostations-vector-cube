{
 "cells": [],
 "metadata": {
  "jupytext": {
   "cell_metadata_filter": "-all"
  },
  "kernelspec": {
   "display_name": "Python (meteostations-vector-cube)",
   "language": "python",
   "name": "meteostations-vector-cube"
  }
 },
 "nbformat": 4,
 "nbformat_minor": 5
}
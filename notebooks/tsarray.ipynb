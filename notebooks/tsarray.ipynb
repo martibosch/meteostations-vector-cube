{
 "cells": [
  {
   "cell_type": "code",
   "execution_count": 1,
   "id": "2cb5cbad",
   "metadata": {},
   "outputs": [],
   "source": [
    "%load_ext autoreload\n",
    "%autoreload 2"
   ]
  },
  {
   "cell_type": "code",
   "execution_count": 2,
   "id": "e4d84111",
   "metadata": {},
   "outputs": [
    {
     "name": "stderr",
     "output_type": "stream",
     "text": [
      "ERROR 1: PROJ: proj_create_from_database: Open of /home/martibosch/mambaforge/envs/meteostations-vector-cube/share/proj failed\n",
      "/home/martibosch/mambaforge/envs/meteostations-vector-cube/lib/python3.11/site-packages/tqdm/auto.py:21: TqdmWarning: IProgress not found. Please update jupyter and ipywidgets. See https://ipywidgets.readthedocs.io/en/stable/user_install.html\n",
      "  from .autonotebook import tqdm as notebook_tqdm\n"
     ]
    },
    {
     "ename": "ImportError",
     "evalue": "cannot import name 'TSArray' from partially initialized module 'tstore.extensions.array' (most likely due to a circular import) (/home/martibosch/data-science/meteostations-vector-cube/src/tstore/tstore/extensions/array.py)",
     "output_type": "error",
     "traceback": [
      "\u001b[0;31m---------------------------------------------------------------------------\u001b[0m",
      "\u001b[0;31mImportError\u001b[0m                               Traceback (most recent call last)",
      "Cell \u001b[0;32mIn[2], line 4\u001b[0m\n\u001b[1;32m      2\u001b[0m \u001b[38;5;28;01mimport\u001b[39;00m \u001b[38;5;21;01mpandas\u001b[39;00m \u001b[38;5;28;01mas\u001b[39;00m \u001b[38;5;21;01mpd\u001b[39;00m\n\u001b[1;32m      3\u001b[0m \u001b[38;5;28;01mfrom\u001b[39;00m \u001b[38;5;21;01mmeteostations\u001b[39;00m\u001b[38;5;21;01m.\u001b[39;00m\u001b[38;5;21;01mclients\u001b[39;00m \u001b[38;5;28;01mimport\u001b[39;00m agrometeo, netatmo\n\u001b[0;32m----> 4\u001b[0m \u001b[38;5;28;01mfrom\u001b[39;00m \u001b[38;5;21;01mtstore\u001b[39;00m\u001b[38;5;21;01m.\u001b[39;00m\u001b[38;5;21;01mextensions\u001b[39;00m\u001b[38;5;21;01m.\u001b[39;00m\u001b[38;5;21;01marray\u001b[39;00m \u001b[38;5;28;01mimport\u001b[39;00m TSArray\n\u001b[1;32m      5\u001b[0m \u001b[38;5;28;01mfrom\u001b[39;00m \u001b[38;5;21;01mtstore\u001b[39;00m\u001b[38;5;21;01m.\u001b[39;00m\u001b[38;5;21;01mts\u001b[39;00m \u001b[38;5;28;01mimport\u001b[39;00m TS, TSDFPandas\n",
      "File \u001b[0;32m~/data-science/meteostations-vector-cube/src/tstore/tstore/extensions/array.py:14\u001b[0m\n\u001b[1;32m     12\u001b[0m \u001b[38;5;28;01mimport\u001b[39;00m \u001b[38;5;21;01mpandas\u001b[39;00m \u001b[38;5;28;01mas\u001b[39;00m \u001b[38;5;21;01mpd\u001b[39;00m\n\u001b[1;32m     13\u001b[0m \u001b[38;5;28;01mfrom\u001b[39;00m \u001b[38;5;21;01mpandas\u001b[39;00m\u001b[38;5;21;01m.\u001b[39;00m\u001b[38;5;21;01mapi\u001b[39;00m\u001b[38;5;21;01m.\u001b[39;00m\u001b[38;5;21;01mextensions\u001b[39;00m \u001b[38;5;28;01mimport\u001b[39;00m ExtensionArray\n\u001b[0;32m---> 14\u001b[0m \u001b[38;5;28;01mfrom\u001b[39;00m \u001b[38;5;21;01mtstore\u001b[39;00m\u001b[38;5;21;01m.\u001b[39;00m\u001b[38;5;21;01mextensions\u001b[39;00m\u001b[38;5;21;01m.\u001b[39;00m\u001b[38;5;21;01mts_dtype\u001b[39;00m \u001b[38;5;28;01mimport\u001b[39;00m TSDtype\n\u001b[1;32m     15\u001b[0m \u001b[38;5;28;01mfrom\u001b[39;00m \u001b[38;5;21;01mtstore\u001b[39;00m\u001b[38;5;21;01m.\u001b[39;00m\u001b[38;5;21;01mts\u001b[39;00m \u001b[38;5;28;01mimport\u001b[39;00m TS\n\u001b[1;32m     17\u001b[0m \u001b[38;5;66;03m#### Notes\u001b[39;00m\n\u001b[1;32m     18\u001b[0m \u001b[38;5;66;03m# https://pandas.pydata.org/pandas-docs/stable/reference/extensions.html\u001b[39;00m\n\u001b[1;32m     19\u001b[0m \u001b[38;5;66;03m# https://pandas.pydata.org/pandas-docs/stable/development/extending.html#extensionarray\u001b[39;00m\n\u001b[0;32m   (...)\u001b[0m\n\u001b[1;32m     30\u001b[0m \n\u001b[1;32m     31\u001b[0m \u001b[38;5;66;03m####--------------------------------------------------------------------------.\u001b[39;00m\n",
      "File \u001b[0;32m~/data-science/meteostations-vector-cube/src/tstore/tstore/extensions/ts_dtype.py:12\u001b[0m\n\u001b[1;32m      9\u001b[0m \u001b[38;5;28;01mfrom\u001b[39;00m \u001b[38;5;21;01mtyping\u001b[39;00m \u001b[38;5;28;01mimport\u001b[39;00m Any\n\u001b[1;32m     11\u001b[0m \u001b[38;5;28;01mfrom\u001b[39;00m \u001b[38;5;21;01mpandas\u001b[39;00m\u001b[38;5;21;01m.\u001b[39;00m\u001b[38;5;21;01mapi\u001b[39;00m\u001b[38;5;21;01m.\u001b[39;00m\u001b[38;5;21;01mextensions\u001b[39;00m \u001b[38;5;28;01mimport\u001b[39;00m ExtensionDtype, register_extension_dtype\n\u001b[0;32m---> 12\u001b[0m \u001b[38;5;28;01mfrom\u001b[39;00m \u001b[38;5;21;01mtstore\u001b[39;00m\u001b[38;5;21;01m.\u001b[39;00m\u001b[38;5;21;01mextensions\u001b[39;00m\u001b[38;5;21;01m.\u001b[39;00m\u001b[38;5;21;01marray\u001b[39;00m \u001b[38;5;28;01mimport\u001b[39;00m TSArray\n\u001b[1;32m     13\u001b[0m \u001b[38;5;28;01mfrom\u001b[39;00m \u001b[38;5;21;01mtstore\u001b[39;00m\u001b[38;5;21;01m.\u001b[39;00m\u001b[38;5;21;01mts\u001b[39;00m \u001b[38;5;28;01mimport\u001b[39;00m TS\n\u001b[1;32m     15\u001b[0m \u001b[38;5;66;03m#### Notes\u001b[39;00m\n\u001b[1;32m     16\u001b[0m \u001b[38;5;66;03m# https://pandas.pydata.org/pandas-docs/stable/reference/extensions.html\u001b[39;00m\n\u001b[1;32m     17\u001b[0m \u001b[38;5;66;03m# https://pandas.pydata.org/pandas-docs/stable/development/extending.html#extensionarray\u001b[39;00m\n\u001b[0;32m   (...)\u001b[0m\n\u001b[1;32m     28\u001b[0m \n\u001b[1;32m     29\u001b[0m \u001b[38;5;66;03m#### Extension DType\u001b[39;00m\n",
      "\u001b[0;31mImportError\u001b[0m: cannot import name 'TSArray' from partially initialized module 'tstore.extensions.array' (most likely due to a circular import) (/home/martibosch/data-science/meteostations-vector-cube/src/tstore/tstore/extensions/array.py)"
     ]
    }
   ],
   "source": [
    "import geopandas as gpd\n",
    "import pandas as pd\n",
    "from meteostations.clients import agrometeo, netatmo\n",
    "from tstore.extensions.array import TSArray\n",
    "from tstore.ts import TS, TSDFPandas"
   ]
  },
  {
   "cell_type": "markdown",
   "id": "bc939d83",
   "metadata": {},
   "source": [
    "## Preprocessing\n",
    "### Netatmo"
   ]
  },
  {
   "cell_type": "code",
   "execution_count": null,
   "id": "7652128b",
   "metadata": {},
   "outputs": [],
   "source": [
    "netatmo_df_filepath = \"../data/interim/netatmo-lausanne-aug-21/ts-df.csv\"\n",
    "netatmo_gser_filepath = \"../data/interim/netatmo-lausanne-aug-21/station-gser.gpkg\""
   ]
  },
  {
   "cell_type": "code",
   "execution_count": null,
   "id": "aa9bbf3f",
   "metadata": {},
   "outputs": [],
   "source": [
    "netatmo_gser = gpd.read_file(netatmo_gser_filepath).set_index(\"index\")[\"geometry\"]\n",
    "netatmo_gser"
   ]
  },
  {
   "cell_type": "code",
   "execution_count": null,
   "id": "66b93231",
   "metadata": {},
   "outputs": [],
   "source": [
    "netatmo_df = pd.read_csv(netatmo_df_filepath)\n",
    "netatmo_df[\"time\"] = pd.to_datetime(netatmo_df[\"time\"])\n",
    "netatmo_df[\"variable\"] = netatmo_df[\"variable\"].map(\n",
    "    {v: k for k, v in netatmo.NetatmoClient._ecv_dict.items()}\n",
    ")\n",
    "netatmo_df"
   ]
  },
  {
   "cell_type": "markdown",
   "id": "cff109f5",
   "metadata": {},
   "source": [
    "### Agrometeo"
   ]
  },
  {
   "cell_type": "code",
   "execution_count": null,
   "id": "18b2d355",
   "metadata": {},
   "outputs": [],
   "source": [
    "region = netatmo_gser.unary_union.convex_hull\n",
    "client = agrometeo.AgrometeoClient(region=region, crs=netatmo_gser.crs)"
   ]
  },
  {
   "cell_type": "code",
   "execution_count": null,
   "id": "8b073ca3",
   "metadata": {},
   "outputs": [],
   "source": [
    "agrometeo_gser = client.stations_gdf.set_index(client._stations_id_col)[\"geometry\"]\n",
    "agrometeo_gser"
   ]
  },
  {
   "cell_type": "code",
   "execution_count": null,
   "id": "cc9240ca",
   "metadata": {},
   "outputs": [],
   "source": [
    "start_dt = netatmo_df[\"time\"].min()\n",
    "end_dt = netatmo_df[\"time\"].max()\n",
    "\n",
    "\n",
    "def get_ts_df(variable):\n",
    "    try:\n",
    "        return (\n",
    "            client.get_ts_df(variable=variable, start_date=start_dt, end_date=end_dt)\n",
    "            .loc[start_dt:end_dt]\n",
    "            .resample(\"1H\")\n",
    "            .mean()\n",
    "            .stack()\n",
    "            .rename(\"value\")\n",
    "            .reset_index()\n",
    "            .assign(variable=variable)\n",
    "        )\n",
    "    except KeyError:\n",
    "        return None\n",
    "\n",
    "\n",
    "agrometeo_df = pd.concat(\n",
    "    [get_ts_df(variable) for variable in netatmo_df[\"variable\"].unique()],\n",
    ").rename(columns={\"name\": \"id\"})\n",
    "agrometeo_df"
   ]
  },
  {
   "cell_type": "code",
   "execution_count": null,
   "id": "393984c0",
   "metadata": {},
   "outputs": [],
   "source": [
    "ts_df = pd.concat([netatmo_df, agrometeo_df])\n",
    "ts_df"
   ]
  },
  {
   "cell_type": "code",
   "execution_count": null,
   "id": "e2b79bf1",
   "metadata": {},
   "outputs": [],
   "source": [
    "for var, var_ts_df in ts_df.groupby(\"variable\"):\n",
    "    for station_id, group_df in var_ts_df.groupby(\"id\"):\n",
    "        break\n",
    "    break\n",
    "group_df"
   ]
  },
  {
   "cell_type": "code",
   "execution_count": null,
   "id": "ae05d915",
   "metadata": {
    "lines_to_next_cell": 1
   },
   "outputs": [],
   "source": [
    "TS(group_df.set_index(\"time\")[[\"value\"]])"
   ]
  },
  {
   "cell_type": "code",
   "execution_count": null,
   "id": "07e906e7",
   "metadata": {},
   "outputs": [],
   "source": [
    "def ts_ser_from_df(var_ts_df, station_id_col=\"id\"):\n",
    "    station_ids = []\n",
    "    ts_list = []\n",
    "    for station_id, group_df in var_ts_df.groupby(\"id\"):\n",
    "        station_ids.append(station_id)\n",
    "        ts_list.append(TS(group_df.set_index(\"time\")[[\"value\"]]))\n",
    "    return pd.Series(TSArray(ts_list), index=station_ids)\n",
    "\n",
    "ts_ser_from_df(var_ts_df)"
   ]
  },
  {
   "cell_type": "code",
   "execution_count": null,
   "id": "c0dc716b",
   "metadata": {
    "lines_to_next_cell": 0
   },
   "outputs": [],
   "source": [
    "ts_ser"
   ]
  },
  {
   "cell_type": "code",
   "execution_count": null,
   "id": "3df9c116",
   "metadata": {},
   "outputs": [],
   "source": [
    "tsdf = TSDFPandas({var: ts_ser_from_df(var_ts_df) for var, var_ts_df in ts_df.groupby(\"variable\")})\n",
    "tsdf"
   ]
  },
  {
   "cell_type": "code",
   "execution_count": null,
   "id": "9ead7bd8",
   "metadata": {},
   "outputs": [],
   "source": [
    "# TODO: test tsdf.to_tstore"
   ]
  }
 ],
 "metadata": {
  "jupytext": {
   "cell_metadata_filter": "-all"
  },
  "kernelspec": {
   "display_name": "Python (meteostations-vector-cube)",
   "language": "python",
   "name": "meteostations-vector-cube"
  },
  "language_info": {
   "codemirror_mode": {
    "name": "ipython",
    "version": 3
   },
   "file_extension": ".py",
   "mimetype": "text/x-python",
   "name": "python",
   "nbconvert_exporter": "python",
   "pygments_lexer": "ipython3",
   "version": "3.11.7"
  }
 },
 "nbformat": 4,
 "nbformat_minor": 5
}
